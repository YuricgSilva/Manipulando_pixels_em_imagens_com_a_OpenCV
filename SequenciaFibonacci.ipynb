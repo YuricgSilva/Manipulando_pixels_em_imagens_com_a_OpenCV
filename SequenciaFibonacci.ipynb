{
 "cells": [
  {
   "cell_type": "code",
   "execution_count": 2,
   "metadata": {},
   "outputs": [
    {
     "name": "stdout",
     "output_type": "stream",
     "text": [
      "1 => 1 => 2 => 3 => 5 => 8 => 13 => 21 => 34 => 55 => ...\n",
      "None\n"
     ]
    }
   ],
   "source": [
    "#Algoritmo da Sequência de Fibonacci#\n",
    "def Fibonacci(atual, ant):\n",
    "    for i in range(0,10):\n",
    "        print(atual ,end=\" => \")\n",
    "        proximo = ant + atual\n",
    "        ant = atual\n",
    "        atual = proximo\n",
    "    print(\"...\")\n",
    "print(Fibonacci(1,0))"
   ]
  },
  {
   "cell_type": "code",
   "execution_count": 32,
   "metadata": {},
   "outputs": [
    {
     "data": {
      "text/plain": [
       "55"
      ]
     },
     "execution_count": 32,
     "metadata": {},
     "output_type": "execute_result"
    }
   ],
   "source": [
    "#Algoritmo da Sequência de Fibonacci Com Recursão#\n",
    "def Tn(n):\n",
    "    return n if n <= 1 else Tn(n-2)+Tn(n-1)\n",
    "Tn(10)"
   ]
  }
 ],
 "metadata": {
  "kernelspec": {
   "display_name": "Python 3",
   "language": "python",
   "name": "python3"
  },
  "language_info": {
   "codemirror_mode": {
    "name": "ipython",
    "version": 3
   },
   "file_extension": ".py",
   "mimetype": "text/x-python",
   "name": "python",
   "nbconvert_exporter": "python",
   "pygments_lexer": "ipython3",
   "version": "3.8.10"
  },
  "orig_nbformat": 4
 },
 "nbformat": 4,
 "nbformat_minor": 2
}
