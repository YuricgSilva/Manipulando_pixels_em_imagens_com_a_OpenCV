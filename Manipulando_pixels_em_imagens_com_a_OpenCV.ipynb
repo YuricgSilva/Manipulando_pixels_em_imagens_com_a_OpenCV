{
  "nbformat": 4,
  "nbformat_minor": 0,
  "metadata": {
    "colab": {
      "provenance": [],
      "toc_visible": true,
      "authorship_tag": "ABX9TyP7uTiUWSxFhwhKJT0S9z/T",
      "include_colab_link": true
    },
    "kernelspec": {
      "name": "python3",
      "display_name": "Python 3"
    },
    "language_info": {
      "name": "python"
    }
  },
  "cells": [
    {
      "cell_type": "markdown",
      "metadata": {
        "id": "view-in-github",
        "colab_type": "text"
      },
      "source": [
        "<a href=\"https://colab.research.google.com/github/YuricgSilva/Manipulando_pixels_em_imagens_com_a_OpenCV/blob/main/Manipulando_pixels_em_imagens_com_a_OpenCV.ipynb\" target=\"_parent\"><img src=\"https://colab.research.google.com/assets/colab-badge.svg\" alt=\"Open In Colab\"/></a>"
      ]
    },
    {
      "cell_type": "code",
      "source": [
        "#Import`s\n",
        "import cv2\n",
        "import numpy as np\n",
        "import matplotlib.pyplot as plt\n",
        "from google.colab.patches import cv2_imshow"
      ],
      "metadata": {
        "id": "K_RJOZ-bynHi"
      },
      "execution_count": 1,
      "outputs": []
    },
    {
      "cell_type": "markdown",
      "source": [
        " Abrindo uma imagem colorida em RGB (imagem “cena01.png”), visualizando e salvando cada um dos canais de cores separadamente."
      ],
      "metadata": {
        "id": "nDGGqu_PxcjI"
      }
    },
    {
      "cell_type": "code",
      "source": [
        "img01 = cv2.imread(\"/content/images/cena01.jpg\")\n",
        "img01"
      ],
      "metadata": {
        "id": "BTHBqdpqxbqs"
      },
      "execution_count": null,
      "outputs": []
    },
    {
      "cell_type": "code",
      "source": [
        "#Extraindo canais de cores da imagem\n",
        "# Canal Azul\n",
        "B = img01[:, :, 0]\n",
        "# Canal Verde\n",
        "G = img01[:, :, 1]\n",
        "# Canal Vermelho\n",
        "R = img01[:, :, 2]"
      ],
      "metadata": {
        "id": "zJWQytmLzJX5"
      },
      "execution_count": 8,
      "outputs": []
    },
    {
      "cell_type": "code",
      "source": [
        "def _00B(img):\n",
        "  _00B = img.copy()\n",
        "  altura, largura, _ = _00B.shape\n",
        "  for i in range(altura):\n",
        "      for j in range(largura):\n",
        "          _00B[i][j][2] = img[i][j][0]\n",
        "          _00B[i][j][1] = 0\n",
        "          _00B[i][j][0] = 0\n",
        "  return _00B\n",
        "def _0G0(img):\n",
        "  _0G0 = img.copy()\n",
        "  altura, largura, _ = _0G0.shape\n",
        "  for i in range(altura):\n",
        "      for j in range(largura):\n",
        "          _0G0[i][j][2] = 0\n",
        "          _0G0[i][j][1] = img[i][j][1]\n",
        "          _0G0[i][j][0] = 0\n",
        "  return _0G0\n",
        "def _R00(img):\n",
        "  _R00 = img.copy()\n",
        "  altura, largura, _ = _R00.shape\n",
        "  for i in range(altura):\n",
        "      for j in range(largura):\n",
        "          _R00[i][j][2] = 0\n",
        "          _R00[i][j][1] = 0\n",
        "          _R00[i][j][0] = img[i][j][2]\n",
        "  return _R00"
      ],
      "metadata": {
        "id": "_onPElWq1ADs"
      },
      "execution_count": 9,
      "outputs": []
    },
    {
      "cell_type": "code",
      "source": [
        "fig, axs = plt.subplots(1, 3, figsize=(15, 5))\n",
        "\n",
        "B = _00B(img01)\n",
        "G = _0G0(img01)\n",
        "R = _R00(img01)\n",
        "\n",
        "# Exibindo o canal azul\n",
        "axs[0].imshow(B, cmap='Blues')\n",
        "axs[0].set_title('Canal Azul')\n",
        "axs[0].axis('off')\n",
        "\n",
        "# Exibindo o canal verde\n",
        "axs[1].imshow(G, cmap='Greens')\n",
        "axs[1].set_title('Canal Verde')\n",
        "axs[1].axis('off')\n",
        "\n",
        "# Exibindo o canal vermelho\n",
        "axs[2].imshow(R, cmap='Reds')\n",
        "axs[2].set_title('Canal Vermelho')\n",
        "axs[2].axis('off')\n",
        "\n",
        "plt.show()"
      ],
      "metadata": {
        "id": "hACykD794s68"
      },
      "execution_count": null,
      "outputs": []
    }
  ]
}