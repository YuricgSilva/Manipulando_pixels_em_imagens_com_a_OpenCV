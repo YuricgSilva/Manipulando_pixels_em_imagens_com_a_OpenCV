{
  "nbformat": 4,
  "nbformat_minor": 0,
  "metadata": {
    "colab": {
      "provenance": [],
      "authorship_tag": "ABX9TyPwanKSUq+yFZI4boDCarqA",
      "include_colab_link": true
    },
    "kernelspec": {
      "name": "python3",
      "display_name": "Python 3"
    },
    "language_info": {
      "name": "python"
    }
  },
  "cells": [
    {
      "cell_type": "markdown",
      "metadata": {
        "id": "view-in-github",
        "colab_type": "text"
      },
      "source": [
        "<a href=\"https://colab.research.google.com/github/YuricgSilva/Manipulando_pixels_em_imagens_com_a_OpenCV/blob/main/Manipulando_pixels_em_imagens_com_a_OpenCV.ipynb\" target=\"_parent\"><img src=\"https://colab.research.google.com/assets/colab-badge.svg\" alt=\"Open In Colab\"/></a>"
      ]
    },
    {
      "cell_type": "code",
      "source": [
        "#Import`s\n",
        "import cv2\n",
        "import numpy as np\n",
        "import matplotlib.pyplot as plt\n",
        "from google.colab.patches import cv2_imshow"
      ],
      "metadata": {
        "id": "K_RJOZ-bynHi"
      },
      "execution_count": 2,
      "outputs": []
    },
    {
      "cell_type": "markdown",
      "source": [
        "ABRINDO UMA IMAGEM COLORIDA EM RGB, VISUALIZANDO E SALVANDO CADA UM DOS CANAIS DE CORES SEPARADAMENTE.\n"
      ],
      "metadata": {
        "id": "nDGGqu_PxcjI"
      }
    },
    {
      "cell_type": "code",
      "source": [
        "cena01 = cv2.imread(\"/content/images/cena01.jpg\")\n",
        "img = cv2.cvtColor(cena01, cv2.COLOR_BGR2RGB)\n",
        "plt.imshow(img)"
      ],
      "metadata": {
        "id": "BTHBqdpqxbqs"
      },
      "execution_count": null,
      "outputs": []
    },
    {
      "cell_type": "code",
      "source": [
        "#Extraindo canais de cores da imagem\n",
        "# Canal Azul\n",
        "R = img[:, :, 0]\n",
        "# Canal Verde\n",
        "G = img[:, :, 1]\n",
        "# Canal Vermelho\n",
        "B = img[:, :, 2]"
      ],
      "metadata": {
        "id": "zJWQytmLzJX5"
      },
      "execution_count": 23,
      "outputs": []
    },
    {
      "cell_type": "code",
      "source": [
        "def _00B(img):\n",
        "  _00B = img.copy()\n",
        "  altura, largura, _ = _00B.shape\n",
        "  for i in range(altura):\n",
        "      for j in range(largura):\n",
        "          _00B[i][j][0] = 0\n",
        "          _00B[i][j][1] = 0\n",
        "          _00B[i][j][2] = img[i][j][0]\n",
        "  return _00B\n",
        "def _0G0(img):\n",
        "  _0G0 = img.copy()\n",
        "  altura, largura, _ = _0G0.shape\n",
        "  for i in range(altura):\n",
        "      for j in range(largura):\n",
        "          _0G0[i][j][0] = 0\n",
        "          _0G0[i][j][1] = img[i][j][1]\n",
        "          _0G0[i][j][2] = 0\n",
        "  return _0G0\n",
        "def _R00(img):\n",
        "  _R00 = img.copy()\n",
        "  altura, largura, _ = _R00.shape\n",
        "  for i in range(altura):\n",
        "      for j in range(largura):\n",
        "          _R00[i][j][0] = img[i][j][2]\n",
        "          _R00[i][j][1] = 0\n",
        "          _R00[i][j][2] = 0\n",
        "  return _R00"
      ],
      "metadata": {
        "id": "_onPElWq1ADs"
      },
      "execution_count": 24,
      "outputs": []
    },
    {
      "cell_type": "code",
      "source": [
        "fig, axs = plt.subplots(1, 3, figsize=(15, 5))\n",
        "\n",
        "R = _R00(img)\n",
        "G = _0G0(img)\n",
        "B = _00B(img)\n",
        "\n",
        "# Exibindo o canal azul\n",
        "axs[2].imshow(B, cmap='Blues')\n",
        "axs[2].set_title('Canal Azul')\n",
        "axs[2].axis('off')\n",
        "\n",
        "# Exibindo o canal verde\n",
        "axs[1].imshow(G, cmap='Greens')\n",
        "axs[1].set_title('Canal Verde')\n",
        "axs[1].axis('off')\n",
        "\n",
        "# Exibindo o canal vermelho\n",
        "axs[0].imshow(R, cmap='Reds')\n",
        "axs[0].set_title('Canal Vermelho')\n",
        "axs[0].axis('off')\n",
        "\n",
        "plt.show()"
      ],
      "metadata": {
        "id": "hACykD794s68"
      },
      "execution_count": null,
      "outputs": []
    },
    {
      "cell_type": "markdown",
      "source": [
        "CONVERSÃO RGB PARA XYZ"
      ],
      "metadata": {
        "id": "O8jZEo4POYLM"
      }
    },
    {
      "cell_type": "code",
      "source": [
        "# Obter as dimensões da imagem\n",
        "altura, largura, _ = img.shape\n",
        "\n",
        "# Cirar imagens para guardar os canais X, Y, Z\n",
        "img_X = np.zeros((altura, largura), dtype=np.float32)\n",
        "img_Y = np.zeros((altura, largura), dtype=np.float32)\n",
        "img_Z = np.zeros((altura, largura), dtype=np.float32)\n",
        "\n",
        "# Matriz de conversão RGB para XYZ\n",
        "rgb_to_xyz_matrix = np.array([[0.4124564, 0.3575761, 0.1804375],\n",
        "                              [0.2126729, 0.7151522, 0.0721750],\n",
        "                              [0.0193339, 0.1191920, 0.9503041]])\n",
        "\n",
        "# Iterar sobre todos os pixels da imagem\n",
        "for i in range(altura):\n",
        "    for j in range(largura):\n",
        "        # Pegar os valores de R, G, B\n",
        "        R = img[i, j, 2]\n",
        "        G = img[i, j, 1]\n",
        "        B = img[i, j, 0]\n",
        "\n",
        "        # Linearizar os valores de R, G, B (normalizando para [0, 1] e aplicando a correção de gama)\n",
        "        R_linear = (R / 255.0) ** 2.2\n",
        "        G_linear = (G / 255.0) ** 2.2\n",
        "        B_linear = (B / 255.0) ** 2.2\n",
        "\n",
        "        # Aplicar a matriz de conversão para calcular X, Y e Z\n",
        "        X = (rgb_to_xyz_matrix[0, 0] * R_linear + rgb_to_xyz_matrix[0, 1] * G_linear + rgb_to_xyz_matrix[0, 2] * B_linear)\n",
        "        Y = (rgb_to_xyz_matrix[1, 0] * R_linear + rgb_to_xyz_matrix[1, 1] * G_linear + rgb_to_xyz_matrix[1, 2] * B_linear)\n",
        "        Z = (rgb_to_xyz_matrix[2, 0] * R_linear + rgb_to_xyz_matrix[2, 1] * G_linear + rgb_to_xyz_matrix[2, 2] * B_linear)\n",
        "\n",
        "        # Armazenar os valores X, Y, Z nas imagens correspondentes\n",
        "        img_X[i, j] = X * 255\n",
        "        img_Y[i, j] = Y * 255\n",
        "        img_Z[i, j] = Z * 255"
      ],
      "metadata": {
        "id": "h0_ySjwjcj0T"
      },
      "execution_count": 53,
      "outputs": []
    },
    {
      "cell_type": "code",
      "source": [
        "# Converter as imagens para uint8 (números inteiros) para visualização\n",
        "img_X = np.uint8(img_X)\n",
        "img_Y = np.uint8(img_Y)\n",
        "img_Z = np.uint8(img_Z)\n",
        "img_XYZ = cv2.merge((img_X, img_Y, img_Z))\n",
        "\n",
        "img_concatenada = cv2.hconcat([img_X, img_Y, img_Z])\n",
        "cv2_imshow(img_concatenada)\n",
        "print(\"\\nIMAGEM COM OS TRÊS CANAIS JUNTOS\")\n",
        "cv2_imshow(img_XYZ)"
      ],
      "metadata": {
        "id": "hTUO6dmre-CY"
      },
      "execution_count": null,
      "outputs": []
    },
    {
      "cell_type": "markdown",
      "source": [
        "CONVERSÃO RGB PARA YUV"
      ],
      "metadata": {
        "id": "SvHUDg64igGU"
      }
    },
    {
      "cell_type": "code",
      "source": [
        "# Obter as dimensões da imagem\n",
        "altura, largura, _ = img.shape\n",
        "\n",
        "# Cirar imagens para guardar os canais Y, U, V\n",
        "img_Y = np.zeros((altura, largura), dtype=np.float32)\n",
        "img_U = np.zeros((altura, largura), dtype=np.float32)\n",
        "img_V = np.zeros((altura, largura), dtype=np.float32)\n",
        "\n",
        "# Matriz de conversão RGB para YUV\n",
        "rgb_to_yuv_matrix = np.array([[0.299, 0.587, 0.114],\n",
        "                              [0.147, 0.289, 0.437],\n",
        "                              [0.615, 0.515, 0.1]])\n",
        "\n",
        "# Iterar sobre todos os pixels da imagem\n",
        "for i in range(altura):\n",
        "    for j in range(largura):\n",
        "        # Pegar os valores de R, G, B\n",
        "        R = img[i, j, 2] / 255.0\n",
        "        G = img[i, j, 1] / 255.0\n",
        "        B = img[i, j, 0] / 255.0\n",
        "\n",
        "        # Aplicar a matriz de conversão para calcular Y, U e V\n",
        "        Y = (rgb_to_yuv_matrix[0, 0] * R + rgb_to_yuv_matrix[0, 1] * G + rgb_to_yuv_matrix[0, 2] * B)\n",
        "        U = ((-rgb_to_yuv_matrix[1, 0]) * R - rgb_to_yuv_matrix[1, 1] * G + rgb_to_yuv_matrix[1, 2] * B)\n",
        "        V = (rgb_to_yuv_matrix[2, 0] * R - rgb_to_yuv_matrix[2, 1] * G - rgb_to_yuv_matrix[2, 2] * B)\n",
        "\n",
        "        # Armazenar os valores X, Y, Z nas imagens correspondentes\n",
        "        img_Y[i, j] = Y * 255\n",
        "        img_U[i, j] = (U+0.5) * 255\n",
        "        img_V[i, j] = (V+0.5) * 255"
      ],
      "metadata": {
        "id": "0RX_lYf5iopR"
      },
      "execution_count": 80,
      "outputs": []
    },
    {
      "cell_type": "code",
      "source": [
        "# Converter as imagens para uint8 (números inteiros) para visualização\n",
        "img_Y = np.uint8(img_Y)\n",
        "img_U = np.uint8(img_U)\n",
        "img_V = np.uint8(img_V)\n",
        "img_YUV = cv2.merge((img_Y, img_U, img_V))\n",
        "\n",
        "img_concatenada = cv2.hconcat([img_Y, img_U, img_V])\n",
        "cv2_imshow(img_concatenada)\n",
        "print(\"\\nIMAGEM COM OS TRÊS CANAIS JUNTOS\")\n",
        "cv2_imshow(img_YUV)"
      ],
      "metadata": {
        "id": "AJuU1J03p1J4"
      },
      "execution_count": null,
      "outputs": []
    },
    {
      "cell_type": "markdown",
      "source": [
        "CONVERSÃO RGB PARA YIQ"
      ],
      "metadata": {
        "id": "uhJ7NMyArY-U"
      }
    },
    {
      "cell_type": "code",
      "source": [
        "  # Obter as dimensões da imagem\n",
        "altura, largura, _ = img.shape\n",
        "\n",
        "# Cirar imagens para guardar os canais Y, I, Q\n",
        "img_Y = np.zeros((altura, largura), dtype=np.float32)\n",
        "img_I = np.zeros((altura, largura), dtype=np.float32)\n",
        "img_Q = np.zeros((altura, largura), dtype=np.float32)\n",
        "\n",
        "# Matriz de conversão RGB para YIQ\n",
        "rgb_to_yiq_matrix = np.array([[0.299, 0.587, 0.114],\n",
        "                              [0.596, 0.275, 0.321],\n",
        "                              [0.212, 0.523, 0.311]])\n",
        "\n",
        "# Iterar sobre todos os pixels da imagem\n",
        "for i in range(altura):\n",
        "    for j in range(largura):\n",
        "        # Pegar os valores de R, G, B\n",
        "        R = img[i, j, 2] / 255.0\n",
        "        G = img[i, j, 1] / 255.0\n",
        "        B = img[i, j, 0] / 255.0\n",
        "\n",
        "        # Aplicar a matriz de conversão para calcular Y, U e V\n",
        "        Y = (rgb_to_yiq_matrix[0, 0] * R + rgb_to_yiq_matrix[0, 1] * G + rgb_to_yiq_matrix[0, 2] * B)\n",
        "        I = (rgb_to_yiq_matrix[1, 0] * R - rgb_to_yiq_matrix[1, 1] * G - rgb_to_yiq_matrix[1, 2] * B)\n",
        "        Q = (rgb_to_yiq_matrix[2, 0] * R - rgb_to_yiq_matrix[2, 1] * G + rgb_to_yiq_matrix[2, 2] * B)\n",
        "\n",
        "        # Armazenar os valores Y, I, Q nas imagens correspondentes\n",
        "        img_Y[i, j] = Y * 255\n",
        "        img_I[i, j] = (I + 0.5957) * 255 / (2 * 0.5957)\n",
        "        img_Q[i, j] = (Q + 0.5226) * 255 / (2 * 0.5226)"
      ],
      "metadata": {
        "id": "rpoQ9dKErd0w"
      },
      "execution_count": 78,
      "outputs": []
    },
    {
      "cell_type": "code",
      "source": [
        "# Converter as imagens para uint8 (números inteiros) para visualização\n",
        "img_Y = np.uint8(img_Y)\n",
        "img_I = np.uint8(img_I)\n",
        "img_Q = np.uint8(img_Q)\n",
        "img_YIQ = cv2.merge((img_Y, img_I, img_Q))\n",
        "\n",
        "img_concatenada = cv2.hconcat([img_Y, img_I, img_Q])\n",
        "cv2_imshow(img_concatenada)\n",
        "print(\"\\nIMAGEM COM OS TRÊS CANAIS JUNTOS\")\n",
        "cv2_imshow(img_YIQ)"
      ],
      "metadata": {
        "id": "3U-krdxYv_YK"
      },
      "execution_count": null,
      "outputs": []
    },
    {
      "cell_type": "markdown",
      "source": [
        "CONVERSÃO RGB PARA CMY"
      ],
      "metadata": {
        "id": "mvoMIJ_dwwNC"
      }
    },
    {
      "cell_type": "code",
      "source": [
        "# Obter as dimensões da imagem\n",
        "altura, largura, _ = img.shape\n",
        "\n",
        "# Criar imagens para os canais C, M, Y\n",
        "img_C = np.zeros((altura, largura), dtype=np.float32)\n",
        "img_M = np.zeros((altura, largura), dtype=np.float32)\n",
        "img_Y = np.zeros((altura, largura), dtype=np.float32)\n",
        "\n",
        "# Iterar sobre todos os pixels\n",
        "for i in range(altura):\n",
        "    for j in range(largura):\n",
        "        # Obter valores normalizados de R, G, B (de 0 a 1)\n",
        "        R = img[i, j, 2] / 255.0\n",
        "        G = img[i, j, 1] / 255.0\n",
        "        B = img[i, j, 0] / 255.0\n",
        "\n",
        "        # Converter para CMY\n",
        "        C = 1 - R\n",
        "        M = 1 - G\n",
        "        Y = 1 - B\n",
        "\n",
        "        # Armazenar os valores em escala 0–255\n",
        "        img_C[i, j] = C * 255\n",
        "        img_M[i, j] = M * 255\n",
        "        img_Y[i, j] = Y * 255"
      ],
      "metadata": {
        "id": "sIylsiz4w8E4"
      },
      "execution_count": 5,
      "outputs": []
    },
    {
      "cell_type": "code",
      "source": [
        "# Converter as imagens para uint8 (números inteiros) para visualização\n",
        "img_C = np.uint8(img_C)\n",
        "img_M = np.uint8(img_M)\n",
        "img_Y = np.uint8(img_Y)\n",
        "img_CMY = cv2.merge((img_C, img_M, img_Y))\n",
        "\n",
        "img_concatenada = cv2.hconcat([img_C, img_M, img_Y])\n",
        "cv2_imshow(img_concatenada)\n",
        "print(\"\\nIMAGEM COM OS TRÊS CANAIS JUNTOS\")\n",
        "cv2_imshow(img_CMY)"
      ],
      "metadata": {
        "id": "2ushd0tVUogy"
      },
      "execution_count": null,
      "outputs": []
    },
    {
      "cell_type": "markdown",
      "source": [
        "CONVERSÃO RGB PARA HSL"
      ],
      "metadata": {
        "id": "qYBWOA2yw89t"
      }
    },
    {
      "cell_type": "code",
      "source": [],
      "metadata": {
        "id": "gsL9mnk-xJj8"
      },
      "execution_count": null,
      "outputs": []
    },
    {
      "cell_type": "markdown",
      "source": [
        "CONVERSÃO RGB PARA HSV"
      ],
      "metadata": {
        "id": "XCm7NRgoxKEo"
      }
    },
    {
      "cell_type": "code",
      "source": [],
      "metadata": {
        "id": "o6Gu6GkkxM-L"
      },
      "execution_count": null,
      "outputs": []
    }
  ]
}