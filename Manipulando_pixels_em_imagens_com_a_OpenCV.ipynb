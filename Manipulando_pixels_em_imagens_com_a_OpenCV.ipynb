{
  "nbformat": 4,
  "nbformat_minor": 0,
  "metadata": {
    "colab": {
      "provenance": [],
      "authorship_tag": "ABX9TyPJZj4bPTtdDXvRk9EVfwFd",
      "include_colab_link": true
    },
    "kernelspec": {
      "name": "python3",
      "display_name": "Python 3"
    },
    "language_info": {
      "name": "python"
    }
  },
  "cells": [
    {
      "cell_type": "markdown",
      "metadata": {
        "id": "view-in-github",
        "colab_type": "text"
      },
      "source": [
        "<a href=\"https://colab.research.google.com/github/YuricgSilva/Manipulando_pixels_em_imagens_com_a_OpenCV/blob/main/Manipulando_pixels_em_imagens_com_a_OpenCV.ipynb\" target=\"_parent\"><img src=\"https://colab.research.google.com/assets/colab-badge.svg\" alt=\"Open In Colab\"/></a>"
      ]
    },
    {
      "cell_type": "code",
      "source": [
        "#Import`s\n",
        "import cv2\n",
        "import numpy as np\n",
        "import matplotlib.pyplot as plt\n",
        "from google.colab.patches import cv2_imshow"
      ],
      "metadata": {
        "id": "K_RJOZ-bynHi"
      },
      "execution_count": 1,
      "outputs": []
    },
    {
      "cell_type": "markdown",
      "source": [
        " Abrindo uma imagem colorida em RGB (imagem “cena01.png”), visualizando e salvando cada um dos canais de cores separadamente."
      ],
      "metadata": {
        "id": "nDGGqu_PxcjI"
      }
    },
    {
      "cell_type": "code",
      "source": [
        "img = cv2.imread(\"/content/images/cena01.jpg\")\n",
        "cv2_imshow(img)"
      ],
      "metadata": {
        "id": "BTHBqdpqxbqs"
      },
      "execution_count": null,
      "outputs": []
    }
  ]
}