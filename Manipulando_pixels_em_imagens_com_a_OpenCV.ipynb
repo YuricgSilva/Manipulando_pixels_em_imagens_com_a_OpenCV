{
  "nbformat": 4,
  "nbformat_minor": 0,
  "metadata": {
    "colab": {
      "provenance": [],
      "authorship_tag": "ABX9TyMJ0uy4WSfA3GND3wka6M4R",
      "include_colab_link": true
    },
    "kernelspec": {
      "name": "python3",
      "display_name": "Python 3"
    },
    "language_info": {
      "name": "python"
    }
  },
  "cells": [
    {
      "cell_type": "markdown",
      "metadata": {
        "id": "view-in-github",
        "colab_type": "text"
      },
      "source": [
        "<a href=\"https://colab.research.google.com/github/YuricgSilva/Manipulando_pixels_em_imagens_com_a_OpenCV/blob/main/Manipulando_pixels_em_imagens_com_a_OpenCV.ipynb\" target=\"_parent\"><img src=\"https://colab.research.google.com/assets/colab-badge.svg\" alt=\"Open In Colab\"/></a>"
      ]
    },
    {
      "cell_type": "code",
      "execution_count": null,
      "metadata": {
        "id": "QouqIwacnKNt"
      },
      "outputs": [],
      "source": []
    }
  ]
}